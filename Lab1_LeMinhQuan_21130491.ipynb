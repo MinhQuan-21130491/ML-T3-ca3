{
  "nbformat": 4,
  "nbformat_minor": 0,
  "metadata": {
    "colab": {
      "provenance": [],
      "toc_visible": true,
      "authorship_tag": "ABX9TyO0/T21Ia7Lsjb+0/zKKiAF",
      "include_colab_link": true
    },
    "kernelspec": {
      "name": "python3",
      "display_name": "Python 3"
    },
    "language_info": {
      "name": "python"
    }
  },
  "cells": [
    {
      "cell_type": "markdown",
      "metadata": {
        "id": "view-in-github",
        "colab_type": "text"
      },
      "source": [
        "<a href=\"https://colab.research.google.com/github/MinhQuan-21130491/ML-T3-ca3/blob/main/Lab1_LeMinhQuan_21130491.ipynb\" target=\"_parent\"><img src=\"https://colab.research.google.com/assets/colab-badge.svg\" alt=\"Open In Colab\"/></a>"
      ]
    },
    {
      "cell_type": "code",
      "execution_count": null,
      "metadata": {
        "id": "h-7zLupc0Zer"
      },
      "outputs": [],
      "source": [
        "l = []\n",
        "n = int(input(\"Enter n : \"))\n",
        "i = 0\n",
        "while i < n:\n",
        "  l.append(int(input(\"Enter n : \")))\n",
        "  i+=1\n",
        "positive = 0;\n",
        "negative = 0;\n",
        "for x in l:\n",
        "    if(x > 0): positive +=1\n",
        "    else:  negative +=1\n",
        "print(\"Min: \" ,min(l))\n",
        "print(\"Max: \" ,max(l))\n",
        "print(\"Sum: \" ,sum(l))\n",
        "print(\"positive: \" ,positive)\n",
        "print(\"negative: \" ,negative)\n",
        "l.sort()\n",
        "print(\"Sort: \" ,l)"
      ]
    },
    {
      "cell_type": "code",
      "source": [
        "def Sn(n):\n",
        "  result = 0\n",
        "  while ( n > 0) :\n",
        "    temp = 1\n",
        "    for x in range(1, n+1):\n",
        "      temp *= x\n",
        "    result += temp\n",
        "    n-=1\n",
        "  return result\n",
        "print(Sn(3))"
      ],
      "metadata": {
        "colab": {
          "base_uri": "https://localhost:8080/"
        },
        "id": "Yx21RTUq50GQ",
        "outputId": "a877e09f-46ab-4f9d-d135-a1b363f19081"
      },
      "execution_count": 61,
      "outputs": [
        {
          "output_type": "stream",
          "name": "stdout",
          "text": [
            "9\n"
          ]
        }
      ]
    },
    {
      "cell_type": "code",
      "source": [
        "class Post:\n",
        "  def __init__(self, content =\"\", subject  =\"\", likes = 0):\n",
        "    self.content = content\n",
        "    self.subject = subject\n",
        "    self.likes = likes\n",
        "\n",
        "class Account:\n",
        "  # name = \"\"\n",
        "  # email =\"\"\n",
        "  # country =\"\"\n",
        "  # friends = list(Account)\n",
        "  # posts = list(Post)\n",
        "  def __init__(self, name =\"\", email = \"\", country =\"\", friends = [], posts = []):\n",
        "      self.name = name\n",
        "      self.email = email\n",
        "      self.country = country\n",
        "      self.friends = friends\n",
        "      self.posts = posts\n",
        "\n",
        "\n",
        "\n",
        "class AccountManager:\n",
        "    def __init__(self, accounts = []):\n",
        "      self.accounts = accounts\n"
      ],
      "metadata": {
        "id": "V6F3h_Y8DGjs"
      },
      "execution_count": null,
      "outputs": []
    },
    {
      "cell_type": "markdown",
      "source": [
        "# Mục mới"
      ],
      "metadata": {
        "id": "ULOZxmIN5zl-"
      }
    },
    {
      "cell_type": "markdown",
      "source": [
        "# Mục mới"
      ],
      "metadata": {
        "id": "9EDEKEVlDGCb"
      }
    }
  ]
}